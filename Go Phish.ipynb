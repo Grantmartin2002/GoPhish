{
 "cells": [
  {
   "cell_type": "markdown",
   "id": "38595281-ff4b-45f8-9125-0637a46304f1",
   "metadata": {},
   "source": [
    "# Load and Preprocess Enron Dataset #"
   ]
  },
  {
   "cell_type": "markdown",
   "id": "5ccc4974-dc30-4dfd-aa22-556c8c5279ed",
   "metadata": {},
   "source": [
    "### Load Enron Dataset ###"
   ]
  },
  {
   "cell_type": "code",
   "execution_count": 4,
   "id": "493bbe0e-460c-4fa7-8261-8c7115ad9b75",
   "metadata": {},
   "outputs": [
    {
     "name": "stdout",
     "output_type": "stream",
     "text": [
      "Processed 1 Out of 6 Folders!\n",
      "Processed 2 Out of 6 Folders!\n",
      "Processed 3 Out of 6 Folders!\n",
      "Processed 4 Out of 6 Folders!\n",
      "Processed 5 Out of 6 Folders!\n",
      "Processed 6 Out of 6 Folders!\n",
      "16545 ham and 17171 spam emails total\n",
      "Min Email Word Count 1 Max Word Count 37138\n"
     ]
    }
   ],
   "source": [
    "import os\n",
    "import string\n",
    "import numpy as np\n",
    "import torch\n",
    "import torch.nn as nn\n",
    "from torch.utils.data import Dataset, DataLoader\n",
    "from torch.nn.utils.rnn import pad_sequence\n",
    "import random\n",
    "from sklearn.model_selection import train_test_split\n",
    "import sys\n",
    "\n",
    "\n",
    "\n",
    "NUM_ENRON_DATASETS = 6\n",
    "\n",
    "\n",
    "# Define categories\n",
    "categories = ['ham', 'spam']\n",
    "num_categories = len(categories)\n",
    "\n",
    "# Define dataset class\n",
    "class EmailDataset(Dataset):\n",
    "    def __init__(self, data, labels):\n",
    "        self.data = data\n",
    "        self.labels = labels\n",
    "        \n",
    "    def __len__(self):\n",
    "        return len(self.data)\n",
    "    \n",
    "    def __getitem__(self, index):\n",
    "        return self.data[index], self.labels[index]\n",
    "\n",
    "# Initialize variables\n",
    "categories_to_emails = {'ham':[], 'spam':[]}\n",
    "categories_to_num_emails_before_filtering = {'ham':0, 'spam':0}\n",
    "\n",
    "for i in range(NUM_ENRON_DATASETS):\n",
    "    data_dir = 'enron' + str(i+1)\n",
    "    # Load data\n",
    "    for category in categories:\n",
    "        # Get list of files\n",
    "        path = os.path.join(data_dir, category)\n",
    "        files = os.listdir(path)\n",
    "\n",
    "        for file in files:\n",
    "            categories_to_num_emails_before_filtering[category] +=1\n",
    "            \n",
    "            # Read file\n",
    "            with open(os.path.join(path, file), 'r', encoding='utf-8', errors='ignore') as f:\n",
    "                text = f.read()\n",
    "\n",
    "            # Remove punctuation\n",
    "            text = text.translate(str.maketrans('', '', string.punctuation))\n",
    "            # add to dictionary\n",
    "            categories_to_emails[category].append(text)\n",
    "    print(\"Processed \" + str(i+1) + \" Out of \" + str(NUM_ENRON_DATASETS) + \" Folders!\")\n",
    "\n",
    "\n",
    "print(len(categories_to_emails['ham']) , \"ham and\", len(categories_to_emails['spam']), \"spam emails total\")\n",
    "\n",
    "combined_emails = categories_to_emails['ham'] + categories_to_emails['spam']\n",
    "print(\"Min Email Word Count\",min(len(email.split()) for email in combined_emails) , \"Max Word Count\", max(len(email.split()) for email in combined_emails))"
   ]
  },
  {
   "cell_type": "markdown",
   "id": "73f35d9e-66aa-46eb-909a-348473fa9b69",
   "metadata": {},
   "source": [
    "### Truncate and Balance the Data ###"
   ]
  },
  {
   "cell_type": "code",
   "execution_count": 5,
   "id": "38cc4b4e-6645-48e6-a46f-186f46f6c324",
   "metadata": {},
   "outputs": [
    {
     "name": "stdout",
     "output_type": "stream",
     "text": [
      "Min Class Length 16545\n",
      "After balancing, 16545 ham and 16545 spam emails total\n"
     ]
    }
   ],
   "source": [
    "MAX_EMAIL_LENGTH = 200\n",
    "\n",
    "category_to_truncated_emails = {'ham':[], 'spam':[]}\n",
    "# truncate emails\n",
    "for category, emails in categories_to_emails.items():\n",
    "    for email in emails:\n",
    "        split_email = email.split()\n",
    "        truncated_end_index = min(len(split_email), MAX_EMAIL_LENGTH)\n",
    "        truncated_email = ' '.join(split_email[:truncated_end_index])\n",
    "        category_to_truncated_emails[category].append(truncated_email)\n",
    "\n",
    "categories_to_emails = category_to_truncated_emails\n",
    "# Find the minimum length of the email lists in each category\n",
    "min_len = min(len(email_list) for email_list in categories_to_emails.values())\n",
    "print(\"Min Class Length\", min_len)\n",
    "\n",
    "# Create a new dictionary to store the randomly sampled emails\n",
    "sampled_categories_to_emails = {'ham':[], 'spam':[]}\n",
    "\n",
    "# Loop through the categories and the corresponding indices, and add the sampled emails to the new dictionary\n",
    "for (category, email_list) in categories_to_emails.items():\n",
    "    sample_indices = random.sample(range(len(email_list)), min_len)\n",
    "    sampled_emails = [email_list[i] for i in sample_indices]\n",
    "    sampled_categories_to_emails[category] = sampled_emails\n",
    "\n",
    "print(\"After balancing,\", len(sampled_categories_to_emails['ham']), \"ham and\", len(sampled_categories_to_emails['spam']), \"spam emails total\")"
   ]
  },
  {
   "cell_type": "markdown",
   "id": "38cec712-ccf1-4b3d-a4d2-6b3b7c07a885",
   "metadata": {},
   "source": [
    "### Convert to list of emails and corresponding labels and shuffle ###"
   ]
  },
  {
   "cell_type": "code",
   "execution_count": 6,
   "id": "3c44216d-e2c5-44ec-b8a1-d3a4940b46fd",
   "metadata": {},
   "outputs": [
    {
     "name": "stdout",
     "output_type": "stream",
     "text": [
      "First 3 emails:\n",
      "--------------------------------------Email: Subject reduzca sus gastos telefonicos empresa lider mundial le permite utilizar su nueva tecnologia y llamar a todo el mundo gratis para mas informacion pinche aqui\n",
      "Label: spam\n",
      "--------------------------------------Email: Subject relief for earthquake victims in el salvador on saturday january 13 2001 an earthquake shook central america the earthquake which had a magnitude of 7 6 was centered off of el salvador s central coast the death toll is currently at 700 and the damage has been estimated at nearly 1 billion nearly half of the country s annual budget enron employees are encouraged to donate to relief efforts and to take advantage of our matching gift program to double the impact of your donation enron will match dollar for dollar every donation that you make up to 15 000 annually per employee listed below are a multitude of organizations that are offering aid to the victims of this earthquake to print a matching gift form please click here and then click on gifts grants and giving please fill out the form and send it with your check to 3 ac 1409 we will send the money collected along with a check from enron for the same amount to each of the organizations please make sure to write el salvador on your check if you have any questions please contact misha siegel via email thank you in advance for\n",
      "Label: ham\n",
      "--------------------------------------Email: Subject fw epe lending cali short for mon day ahead spl 5 on peak price for monday is 43 original message from symes kate sent friday august 24 2001 9 28 am to dl portland real time shift cc gang lisa subject epe lending cali short for mon epe lending stwbom and stsw are each short 25 mw on peak at palo on monday purchase power to cover these short positions sell back to el paso at 0 reduce purchase prices in the following deals to 2 per the new epe lending fee 747813 stwbom buys epe on peak pv 25 mw 49 747816 stsw buys epe on peak pv 25 mw 49 in california we ll be short 50 mw on peak at spl 5 under stwbom please cover this short under the stwbom book day ahead price has not been set at the time of this e mail but i ll let you know when it has please let me know if you have any questions thanks kate\n",
      "Label: ham\n"
     ]
    }
   ],
   "source": [
    "emails = sampled_categories_to_emails['ham'] + sampled_categories_to_emails['spam']\n",
    "\n",
    "# Create a list of corresponding labels\n",
    "labels = ['ham'] * len(sampled_categories_to_emails['ham']) + ['spam'] * len(sampled_categories_to_emails['spam'])\n",
    "\n",
    "# Shuffle the emails and labels in unison\n",
    "shuffled_indices = list(range(len(emails)))\n",
    "random.shuffle(shuffled_indices)\n",
    "emails = [emails[i] for i in shuffled_indices]\n",
    "labels = [labels[i] for i in shuffled_indices]\n",
    "print(\"First 3 emails:\")\n",
    "for i in range(3):\n",
    "    print(\"--------------------------------------Email:\", emails[i])\n",
    "    print(\"Label:\", labels[i])"
   ]
  },
  {
   "cell_type": "markdown",
   "id": "7a3de58e-06d3-4230-b588-bde74c33c8a2",
   "metadata": {},
   "source": [
    "### Tokenize and pad sequences ###"
   ]
  },
  {
   "cell_type": "code",
   "execution_count": 7,
   "id": "74a0a491-4d89-4763-8b61-3ad39a88651d",
   "metadata": {},
   "outputs": [
    {
     "name": "stdout",
     "output_type": "stream",
     "text": [
      "Vocab_Size: 121578 NumSpam: MaxSequenceLen: 200\n",
      "tensor([  1,  42, 201, 188, 451, 594, 595,  84,  72, 596,  52,  73,  17, 597,\n",
      "        598, 599,  76,  17, 600, 601, 602, 106,  46, 603,  46, 604, 605,  46,\n",
      "        606, 550, 606,  38, 607,  46,  72, 608,  62,  63, 609, 122,  42, 610,\n",
      "         60, 611, 612,  31, 613, 122,  42, 600, 106, 606,  62, 614,  76, 615,\n",
      "         17, 616, 568,  46, 603,  46, 606,  52, 604, 605,  28, 187, 457,  72,\n",
      "        596,  52,  73,  60, 617, 498, 618, 594, 595,  84, 137,  94, 138, 139,\n",
      "        619,  31, 620, 621, 622,  42, 594, 595,  84,  43,  62,  17, 623,  46,\n",
      "        624, 200, 625, 111, 626,  42, 627,  76,  42, 198, 628, 246,  94,  89,\n",
      "        629,  17, 630, 631,  17, 632, 633,  42,  84,  38, 634,  46, 619, 110,\n",
      "         60,  38, 635, 636, 637,  76,  42, 106, 229,  31,  42, 638,  93,  94,\n",
      "         74, 639,  76, 626,  42, 640, 627, 111, 641,  42, 627,  76,  42, 642,\n",
      "        643,  46,  87, 644, 645,  42, 198, 646,  74, 647,  76, 210, 648,  31,\n",
      "        108, 216, 217, 457,  42, 649,  60, 650,  46,  42, 610,  60, 611, 612,\n",
      "         17, 597, 598, 599,  76,  42, 603,  62,  63, 609, 122,  42, 610,  60,\n",
      "        611, 612, 218,  62]) tensor(0)\n"
     ]
    }
   ],
   "source": [
    "# Tokenize text\n",
    "word_to_idx = {}\n",
    "idx_to_word = {}\n",
    "for email in emails:\n",
    "    for word in email.split():\n",
    "        if word not in word_to_idx:\n",
    "            idx = len(word_to_idx) + 1\n",
    "            word_to_idx[word] = idx\n",
    "            idx_to_word[idx] = word\n",
    "vocab_size = len(word_to_idx)+1\n",
    "\n",
    "\n",
    "# Convert text to sequence of indices\n",
    "sequences = []\n",
    "for email in emails:\n",
    "    sequence = [word_to_idx[word] for word in email.split()]\n",
    "    sequences.append(sequence)\n",
    "\n",
    "# Pad sequences to be of equal length\n",
    "max_len = max([len(seq) for seq in sequences])\n",
    "padded_sequences = []\n",
    "for seq in sequences:\n",
    "    seq = torch.LongTensor(seq)\n",
    "    padded_seq = torch.zeros(max_len, dtype=torch.long)\n",
    "    padded_seq[:len(seq)] = seq\n",
    "    padded_sequences.append(padded_seq)\n",
    "    \n",
    "# Convert labels to categorical\n",
    "cat_labels = torch.tensor([categories.index(label) for label in labels], dtype=torch.long)\n",
    "\n",
    "\n",
    "\n",
    "\n",
    "print(\"Vocab_Size:\", vocab_size, \"NumSpam:\", \"MaxSequenceLen:\", max_len)\n",
    "print(padded_sequences[10], cat_labels[10])"
   ]
  },
  {
   "cell_type": "markdown",
   "id": "77f566ec-142a-43c3-b7b8-1471b28547b7",
   "metadata": {},
   "source": [
    "### Define data loaders ###"
   ]
  },
  {
   "cell_type": "code",
   "execution_count": 8,
   "id": "4264724f-dc41-42b2-9efe-4eb7b77f4e4a",
   "metadata": {},
   "outputs": [
    {
     "name": "stdout",
     "output_type": "stream",
     "text": [
      "Train Size: 19854 Test Size: 6618 Validation Size: 6618\n"
     ]
    }
   ],
   "source": [
    "\n",
    "train_percent = .6\n",
    "test_percent = .2\n",
    "validation_percent = .2\n",
    "\n",
    "# Split data into train, test, and validation sets\n",
    "train_data, test_val_data, train_labels, test_val_labels = train_test_split(padded_sequences, cat_labels, test_size=test_percent+validation_percent, stratify=cat_labels)\n",
    "val_data, test_data, val_labels, test_labels = train_test_split(test_val_data, test_val_labels, test_size=test_percent/(test_percent+validation_percent), stratify=test_val_labels)\n",
    "\n",
    "\n",
    "train_dataset = EmailDataset(train_data, train_labels)\n",
    "test_dataset = EmailDataset(test_data, test_labels)\n",
    "validation_dataset = EmailDataset(val_data, val_labels)\n",
    "\n",
    "\n",
    "# Define data loaders\n",
    "batch_size = 64\n",
    "train_loader = DataLoader(train_dataset, batch_size=batch_size, shuffle=True)\n",
    "test_loader = DataLoader(test_dataset, batch_size=batch_size, shuffle=False)\n",
    "validation_loader = DataLoader(validation_dataset, batch_size=batch_size, shuffle=False)\n",
    "print(\"Train Size:\", len(train_dataset), \"Test Size:\", len(test_dataset), \"Validation Size:\", len(validation_dataset))"
   ]
  },
  {
   "cell_type": "markdown",
   "id": "6b20f349-edac-4a42-93ae-bdcdb655b2d1",
   "metadata": {},
   "source": [
    "# Define Model #"
   ]
  },
  {
   "cell_type": "code",
   "execution_count": 9,
   "id": "6a9ac305-c3cd-454d-98c6-054a6bfc6ab6",
   "metadata": {},
   "outputs": [],
   "source": [
    "import torch.nn.init as init\n",
    "\n",
    "\n",
    "class WordLSTM(nn.ModuleList):\n",
    "    def __init__(self, input_size, hidden_dim, LSTM_layers, device):\n",
    "        super(WordLSTM, self).__init__()\n",
    "        self.LSTM_layers = LSTM_layers\n",
    "        self.hidden_dim = hidden_dim\n",
    "        self.device = device\n",
    "\n",
    "        \n",
    "        self.embedding = nn.Embedding(input_size, hidden_dim, padding_idx=0)\n",
    "        self.lstm = nn.LSTM(input_size=hidden_dim, hidden_size=hidden_dim, num_layers=LSTM_layers, batch_first=True)\n",
    "        self.fc1 = nn.Linear(in_features=hidden_dim, out_features=257)\n",
    "        self.fc2 = nn.Linear(257, 1)\n",
    "        init.xavier_uniform_(self.fc1.weight)\n",
    "        init.xavier_uniform_(self.fc2.weight)\n",
    "\n",
    "    def forward(self, x):\n",
    "        h = torch.zeros((self.LSTM_layers, x.size(0), self.hidden_dim))\n",
    "        c = torch.zeros((self.LSTM_layers, x.size(0), self.hidden_dim))\n",
    "        h = h.to(self.device)\n",
    "        c = c.to(self.device)\n",
    "\n",
    "        torch.nn.init.xavier_normal_(h)\n",
    "        torch.nn.init.xavier_normal_(c)\n",
    "\n",
    "        out = self.embedding(x)\n",
    "        out, (hidden, cell) = self.lstm(out, (h,c))\n",
    "        out = self.fc1(out[:,-1,:])\n",
    "        out = torch.relu_(out)\n",
    "        out = self.fc2(out)\n",
    "        out = torch.sigmoid(out)\n",
    "        return out.squeeze()"
   ]
  },
  {
   "cell_type": "markdown",
   "id": "029a4036-e347-4f18-a0b6-2970efab3caf",
   "metadata": {},
   "source": [
    "#### Initialize Cuda if available ####"
   ]
  },
  {
   "cell_type": "code",
   "execution_count": 10,
   "id": "e26f35cc-1cb1-4b6a-b448-56f74d00a495",
   "metadata": {},
   "outputs": [
    {
     "name": "stdout",
     "output_type": "stream",
     "text": [
      "CUDA is available!\n",
      "GPU: NVIDIA GeForce GTX 1080 Ti\n"
     ]
    }
   ],
   "source": [
    "if torch.cuda.is_available():\n",
    "    print(\"CUDA is available!\")\n",
    "    device = torch.device(\"cuda\")\n",
    "    print(\"GPU:\", torch.cuda.get_device_name(0))\n",
    "    #device = torch.device(\"cpu\")\n",
    "else:\n",
    "    print(\"CUDA is not available.\")\n",
    "    print(torch.__version__)\n",
    "    device = torch.device(\"cpu\")"
   ]
  },
  {
   "cell_type": "markdown",
   "id": "3e3baafb-e827-49f4-b689-d32558a46241",
   "metadata": {},
   "source": [
    "# Initialize Model #"
   ]
  },
  {
   "cell_type": "code",
   "execution_count": 11,
   "id": "faa444f5-f640-426c-932c-99ad4d6d2bde",
   "metadata": {},
   "outputs": [
    {
     "name": "stdout",
     "output_type": "stream",
     "text": [
      "WordLSTM(\n",
      "  (0): Embedding(121578, 128, padding_idx=0)\n",
      "  (1): LSTM(128, 128, num_layers=2, batch_first=True)\n",
      "  (2): Linear(in_features=128, out_features=257, bias=True)\n",
      "  (3): Linear(in_features=257, out_features=1, bias=True)\n",
      ")\n",
      "15859587\n"
     ]
    }
   ],
   "source": [
    "# Define hyperparameters\n",
    "hidden_size = 128\n",
    "num_layers = 2\n",
    "\n",
    "# Initialize model\n",
    "model = WordLSTM(vocab_size, hidden_size, num_layers, device)\n",
    "#torch.cuda.empty_cache()\n",
    "model.to(device)\n",
    "print(model)\n",
    "print(sum(p.numel() for p in model.parameters()))\n"
   ]
  },
  {
   "cell_type": "markdown",
   "id": "b8bd2928-5ad8-4c42-ad74-d570264cdc49",
   "metadata": {},
   "source": [
    "### Initialize Criterion, Optimizer, and Scheduler ###"
   ]
  },
  {
   "cell_type": "code",
   "execution_count": 12,
   "id": "3e46eea7-56ca-4b1d-b43d-f8928bdbaafa",
   "metadata": {},
   "outputs": [],
   "source": [
    "import torch.optim as optim\n",
    "\n",
    "learning_rate = 0.001\n",
    "\n",
    "\n",
    "criterion = nn.BCELoss()\n",
    "optimizer = optim.Adam(model.parameters(), lr=learning_rate)\n",
    "scheduler = torch.optim.lr_scheduler.ReduceLROnPlateau(optimizer, mode = 'min', factor = 0.5, patience = 2)"
   ]
  },
  {
   "cell_type": "markdown",
   "id": "79af84bd-e34a-4486-9849-8a1ea899ac21",
   "metadata": {},
   "source": [
    "# Train Model #"
   ]
  },
  {
   "cell_type": "code",
   "execution_count": 13,
   "id": "641663c6-e3cb-4cfc-be4b-570ddf231fbd",
   "metadata": {},
   "outputs": [
    {
     "name": "stdout",
     "output_type": "stream",
     "text": [
      "Current learning rate: [0.001]\n",
      "Epoch 1/20 Train Loss: 0.5523 Validation Loss: 0.6138\n",
      "Current learning rate: [0.001]\n",
      "Epoch 2/20 Train Loss: 0.4938 Validation Loss: 0.4624\n",
      "Current learning rate: [0.001]\n",
      "Epoch 3/20 Train Loss: 0.6177 Validation Loss: 0.6749\n",
      "Current learning rate: [0.001]\n",
      "Epoch 4/20 Train Loss: 0.6691 Validation Loss: 0.6572\n",
      "Current learning rate: [0.001]\n",
      "Epoch 5/20 Train Loss: 0.4408 Validation Loss: 0.0951\n",
      "Current learning rate: [0.001]\n",
      "Epoch 6/20 Train Loss: 0.0774 Validation Loss: 0.0667\n",
      "Current learning rate: [0.001]\n",
      "Epoch 7/20 Train Loss: 0.0308 Validation Loss: 0.0579\n",
      "Current learning rate: [0.001]\n",
      "Epoch 8/20 Train Loss: 0.0172 Validation Loss: 0.0565\n",
      "Current learning rate: [0.001]\n",
      "Epoch 9/20 Train Loss: 0.0092 Validation Loss: 0.0609\n",
      "Current learning rate: [0.001]\n",
      "Epoch 10/20 Train Loss: 0.0048 Validation Loss: 0.0669\n",
      "Current learning rate: [0.0005]\n",
      "Epoch 11/20 Train Loss: 0.0030 Validation Loss: 0.0837\n",
      "Current learning rate: [0.0005]\n",
      "Epoch 12/20 Train Loss: 0.0007 Validation Loss: 0.0937\n",
      "Current learning rate: [0.0005]\n",
      "Epoch 13/20 Train Loss: 0.0030 Validation Loss: 0.0763\n",
      "Current learning rate: [0.00025]\n",
      "Epoch 14/20 Train Loss: 0.0010 Validation Loss: 0.0836\n",
      "Current learning rate: [0.00025]\n",
      "Epoch 15/20 Train Loss: 0.0003 Validation Loss: 0.0892\n",
      "Current learning rate: [0.00025]\n",
      "Epoch 16/20 Train Loss: 0.0002 Validation Loss: 0.0939\n",
      "Current learning rate: [0.000125]\n",
      "Epoch 17/20 Train Loss: 0.0008 Validation Loss: 0.0890\n",
      "Current learning rate: [0.000125]\n",
      "Epoch 18/20 Train Loss: 0.0001 Validation Loss: 0.0919\n",
      "Current learning rate: [0.000125]\n",
      "Epoch 19/20 Train Loss: 0.0001 Validation Loss: 0.0966\n",
      "Current learning rate: [6.25e-05]\n",
      "Epoch 20/20 Train Loss: 0.0000 Validation Loss: 0.0982\n"
     ]
    }
   ],
   "source": [
    "import sys\n",
    "    \n",
    "num_epochs = 20\n",
    "# Train the model\n",
    "train_loss_arr = []\n",
    "val_loss_arr = []\n",
    "prev_val_loss = sys.maxsize\n",
    "for epoch in range(num_epochs):\n",
    "    \n",
    "    train_loss = 0\n",
    "    \n",
    "    # Train the model on the training set\n",
    "    model.train()\n",
    "    for i, (inputs, labels) in enumerate(train_loader):\n",
    "        inputs = inputs.to(device)\n",
    "        labels = labels.to(device)\n",
    "\n",
    "\n",
    "        # Forward pass\n",
    "        outputs = model(inputs)\n",
    "        \n",
    "        \n",
    "        loss = criterion(outputs.float(), labels.float())\n",
    "        train_loss += loss.item()\n",
    "        \n",
    "        # Backward pass\n",
    "        optimizer.zero_grad()\n",
    "        loss.backward()\n",
    "       \n",
    "        optimizer.step()\n",
    "    \n",
    "       \n",
    "    train_loss /= len(train_loader)\n",
    "    train_loss_arr.append(train_loss)\n",
    "    \n",
    "    \n",
    "    # Evaluate the model on the validation set\n",
    "    model.eval()\n",
    "    with torch.no_grad():\n",
    "        val_loss = 0\n",
    "        for i, (inputs, labels) in enumerate(validation_loader):\n",
    "            inputs = inputs.to(device)\n",
    "            labels = labels.to(device)\n",
    "            outputs = model(inputs)\n",
    "            loss = criterion(outputs.float(), labels.float())\n",
    "            val_loss += loss.item()\n",
    "\n",
    "        val_loss /= len(validation_loader)\n",
    "        val_loss_arr.append(val_loss)\n",
    "    scheduler.step(val_loss)\n",
    "    cur_lr = [param_group['lr'] for param_group in optimizer.param_groups]\n",
    "    print('Current learning rate:', cur_lr)\n",
    "    # Print the average train and validation losses for this epoch\n",
    "    print(\"Epoch {}/{} Train Loss: {:.4f} Validation Loss: {:.4f}\".format(epoch+1, num_epochs, train_loss, val_loss))"
   ]
  },
  {
   "cell_type": "markdown",
   "id": "33b147b2-b58a-4963-aeb6-8317d243de6c",
   "metadata": {},
   "source": [
    "# Evaluate Model #"
   ]
  },
  {
   "cell_type": "code",
   "execution_count": 14,
   "id": "e07b69b4-9a58-4f49-9935-851b1b0b6c7f",
   "metadata": {},
   "outputs": [
    {
     "data": {
      "image/png": "[encoded data removed]",
      "text/plain": [
       "<Figure size 640x480 with 2 Axes>"
      ]
     },
     "metadata": {},
     "output_type": "display_data"
    },
    {
     "data": {
      "image/png": "[encoded data removed]",
      "text/plain": [
       "<Figure size 640x480 with 1 Axes>"
      ]
     },
     "metadata": {},
     "output_type": "display_data"
    },
    {
     "name": "stdout",
     "output_type": "stream",
     "text": [
      "Accuracy: 0.9858\n",
      "Precision: 0.9835\n",
      "Recall: 0.9882\n",
      "F1-score: 0.9858\n",
      "ROC-AUC score: 0.9969\n"
     ]
    }
   ],
   "source": [
    "from sklearn.metrics import accuracy_score, precision_score, recall_score, f1_score, roc_auc_score, confusion_matrix\n",
    "import numpy as np\n",
    "import seaborn as sns\n",
    "import matplotlib.pyplot as plt\n",
    "\n",
    "def print_model_results(model, print_plots=True, print_extended_stats = True):\n",
    "    model.eval()\n",
    "    preds = []\n",
    "    targets = []\n",
    "    raw_outputs = []\n",
    "    ham_preds = []\n",
    "    spam_preds = []\n",
    "    num_printed = 0\n",
    "    with torch.no_grad():\n",
    "        for inputs, labels in test_loader:\n",
    "            inputs = inputs.to(device)\n",
    "            labels = labels.to(device)\n",
    "\n",
    "\n",
    "            # Forward pass\n",
    "            outputs = model(inputs)\n",
    "            #print(outputs)\n",
    "            if(num_printed<2): \n",
    "                #print(outputs)\n",
    "                num_printed+=1\n",
    "            raw_outputs.append(outputs.cpu())\n",
    "            preds.append((outputs>.5).cpu().long().numpy())\n",
    "            targets.append(labels.cpu().numpy())\n",
    "            for i, label in enumerate(labels):\n",
    "                if label == 0:\n",
    "                    ham_preds.append(outputs[i].cpu().numpy())\n",
    "                else:\n",
    "                    spam_preds.append(outputs[i].cpu().numpy())\n",
    "\n",
    "    preds = np.concatenate(preds)\n",
    "    targets = np.concatenate(targets)\n",
    "    raw_outputs = np.concatenate(raw_outputs)\n",
    "    \n",
    "    if(print_plots):\n",
    "        cm = confusion_matrix(targets, preds)\n",
    "\n",
    "        # Create heatmap with labeled rows and columns\n",
    "        sns.heatmap(cm, annot=True, fmt='d', xticklabels=categories, yticklabels=categories)\n",
    "\n",
    "        # Add axis labels and title\n",
    "        plt.xlabel('Predicted label')\n",
    "        plt.ylabel('True label')\n",
    "        plt.title('Confusion matrix')\n",
    "\n",
    "        # Show the plot\n",
    "        plt.show()\n",
    "\n",
    "\n",
    "\n",
    "         # show the plot\n",
    "\n",
    "        # Create histograms of predicted values for true ham and true spam messages\n",
    "        plt.hist(ham_preds, bins=20, alpha=0.5, label='Ham')\n",
    "        plt.hist(spam_preds, bins=20, alpha=0.5, label='Spam')\n",
    "        plt.legend(loc='upper right')\n",
    "        plt.xlabel('Predicted probability')\n",
    "        plt.ylabel('Frequency')\n",
    "        plt.title('Histograms of predicted values for true ham and true spam messages')\n",
    "        plt.show()\n",
    "    \n",
    "    acc = accuracy_score(targets, preds)\n",
    "    prec = precision_score(targets, preds, zero_division=0)\n",
    "    rec = recall_score(targets, preds)\n",
    "    f1 = f1_score(targets, preds)\n",
    "    roc_auc = roc_auc_score(targets, raw_outputs)\n",
    "    print(\"Accuracy: {:.4f}\".format(acc))\n",
    "    if(print_extended_stats):\n",
    "        print(\"Precision: {:.4f}\".format(prec))\n",
    "        print(\"Recall: {:.4f}\".format(rec))\n",
    "        print(\"F1-score: {:.4f}\".format(f1))\n",
    "        print(\"ROC-AUC score: {:.4f}\".format(roc_auc))\n",
    "    \n",
    "print_model_results(model)"
   ]
  },
  {
   "cell_type": "code",
   "execution_count": null,
   "id": "8a8a1d15-7e28-48bc-aa09-4b4290680cd1",
   "metadata": {},
   "outputs": [],
   "source": []
  }
 ],
 "metadata": {
  "kernelspec": {
   "display_name": "Python 3 (ipykernel)",
   "language": "python",
   "name": "python3"
  },
  "language_info": {
   "codemirror_mode": {
    "name": "ipython",
    "version": 3
   },
   "file_extension": ".py",
   "mimetype": "text/x-python",
   "name": "python",
   "nbconvert_exporter": "python",
   "pygments_lexer": "ipython3",
   "version": "3.9.13"
  }
 },
 "nbformat": 4,
 "nbformat_minor": 5
}
